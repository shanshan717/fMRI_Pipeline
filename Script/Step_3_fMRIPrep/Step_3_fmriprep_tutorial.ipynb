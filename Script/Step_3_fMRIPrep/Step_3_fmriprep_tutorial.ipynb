{
 "cells": [
  {
   "cell_type": "markdown",
   "id": "c5c76f6e",
   "metadata": {},
   "source": [
    "<center>\n",
    "\n",
    "# **如何运行fMRIPrep Package**\n",
    "\n",
    "</center>"
   ]
  },
  {
   "cell_type": "markdown",
   "id": "afa514f5",
   "metadata": {
    "vscode": {
     "languageId": "plaintext"
    }
   },
   "source": [
    "***"
   ]
  },
  {
   "cell_type": "markdown",
   "id": "96617e93",
   "metadata": {},
   "source": [
    "本教程将教你如何在 Windows、macOS 和 Linux 系统 上使用 fMRIPrep 对 BIDS 格式的 fMRI 数据进行标准化预处理。\n",
    "\n",
    "我们将使用 Docker 运行 fMRIPrep，以确保跨平台兼容和最大程度的可重复性。\n",
    "\n",
    "- **Step 1: 准备 BIDS 格式的数据集**\n",
    "- **Step 2: 通过 Docker 运行fMRIPrep**\n",
    "- **Step 3: FreeSurfer 许可证**\n",
    "- **Step 4: 运行 fMRIPrep**\n",
    "- **Step 5: 检查输出结果**\n",
    "\n"
   ]
  },
  {
   "cell_type": "markdown",
   "id": "972b35dc",
   "metadata": {},
   "source": [
    "# Step 1 准备 BIDS 格式的数据集"
   ]
  },
  {
   "cell_type": "markdown",
   "id": "125917e1",
   "metadata": {},
   "source": [
    "### 输入数据：符合BIDS格式的数据集\n",
    "\n",
    "\n",
    "```\n",
    "Bids/\n",
    "├── dataset_description.json\n",
    "├── participants.tsv\n",
    "└── sub-001/\n",
    "    ├── anat/\n",
    "    │   ├── sub-001_T1w.nii.gz\n",
    "    │   └── sub-001_T1w.json\n",
    "    └── func/\n",
    "        ├── sub-001_task-rest_bold.nii.gz\n",
    "        └── sub-001_task-rest_bold.json\n",
    "```\n"
   ]
  },
  {
   "cell_type": "markdown",
   "id": "6a627ecc",
   "metadata": {},
   "source": [
    "# Step 2 通过 Docker 运行fMRIPrep"
   ]
  },
  {
   "cell_type": "code",
   "execution_count": null,
   "id": "3f8ac5d1",
   "metadata": {
    "vscode": {
     "languageId": "shellscript"
    }
   },
   "outputs": [],
   "source": [
    "# 下列命令在linux、macos、windows下均可执行\n",
    "docker pull nipreps/fmriprep:latest"
   ]
  },
  {
   "cell_type": "markdown",
   "id": "fc3d3468",
   "metadata": {},
   "source": [
    "**注意：配置 Docker 镜像加速器**\n",
    "\n",
    "在国内拉取 Docker 镜像时，如果出现如下错误：\n",
    "\n",
    "```\n",
    "docker: Error response from daemon: Get \"https://registry-1.docker.io/v2/\": read tcp 192.168.30.91:51536->44.208.254.194:443: read: connection reset by peer.\n",
    "```\n",
    "\n",
    "这表明 Docker 客户端在尝试访问 Docker Hub 或其他注册中心时出错，具体是无法获取注册中心的 API 响应。\n",
    "\n",
    "> 🔗 参考：[知乎文章 - Docker 镜像加速](https://zhuanlan.zhihu.com/p/24228872523)\n",
    "\n",
    "\n",
    "打开 Docker Desktop → Settings → Docker Engine，添加以下内容：\n",
    "\n",
    "```json\n",
    "{\n",
    "  \"registry-mirrors\": [\n",
    "    \"https://docker-cf.registry.cyou\",\n",
    "    \"https://mirror.aliyuncs.com\",\n",
    "    \"https://mirror.baidubce.com\",\n",
    "    \"https://docker.nju.edu.cn\",\n",
    "    \"https://docker.mirrors.ustc.edu.cn\",\n",
    "    \"https://mirrors.tuna.tsinghua.edu.cn\"\n",
    "  ]\n",
    "}\n",
    "```\n",
    "\n",
    "点击 Apply & Restar。\n",
    "\n",
    "之后在命令行/终端再次输入docker pull 的相关命令。"
   ]
  },
  {
   "cell_type": "markdown",
   "id": "1510973a",
   "metadata": {},
   "source": [
    "# Step 3: 运行 fMRIPrep 的被试级预处理分析"
   ]
  },
  {
   "cell_type": "markdown",
   "id": "d9566b17",
   "metadata": {},
   "source": [
    "**注意：**\n",
    "\n",
    "fMRIPrep 使用 FreeSurfer 来重建大脑的解剖表面并执行部分配准步骤，因此需要 FreeSurfer 授权许可。\n",
    "\n",
    "获取许可的方法如下：\n",
    "\n",
    "1. 免费注册并申请许可：[FreeSurfer License 申请页面](https://surfer.nmr.mgh.harvard.edu/fswiki/License)\n",
    "2. 填写注册表单后，许可文件（`license.txt`）将会发送到你填写的邮箱。\n",
    "3. 下载并妥善保存该许可文件，后续运行 fMRIPrep 时需要用到。"
   ]
  },
  {
   "cell_type": "markdown",
   "id": "9bb17955",
   "metadata": {},
   "source": [
    "当你获得 FreeSurfer 许可之后，就可以使用 Docker 运行 fMRIPrep 了。\n",
    "\n",
    "下面是一个示例 Python 脚本（可在 Linux、macOS、Windows 上运行）："
   ]
  },
  {
   "cell_type": "code",
   "execution_count": null,
   "id": "82a2c303",
   "metadata": {},
   "outputs": [],
   "source": [
    "import os\n",
    "\n",
    "# 需要处理的被试编号列表\n",
    "subs = ['014', '015', '017']\n",
    "\n",
    "# BIDS 数据集根目录\n",
    "bids_root_dir = \"/mnt/sdb1/Judge-fMRI-Data/Bids\"\n",
    "\n",
    "# fMRIPrep 输出目录\n",
    "bids_out_dir = \"/mnt/sdb1/Judge-fMRI/fmriprep\"\n",
    "\n",
    "# FreeSurfer 授权文件路径\n",
    "license_path = \"/mnt/sdb1/Judge-fMRI/Scripts/ProcessingScripts/fMRIPrep/license.txt\"\n",
    "\n",
    "# 线程数\n",
    "nthreads = 12\n",
    "\n",
    "# 检查 fMRIPrep 版本\n",
    "print(\"Checking fMRIPrep version...\")\n",
    "os.system(\"docker run --rm -it nipreps/fmriprep --version\")\n",
    "\n",
    "# 循环处理每个被试\n",
    "for sub in subs:\n",
    "    # 构建 docker 命令\n",
    "    cmd = f\"\"\"\n",
    "    docker run --rm -it \\\n",
    "        -v {bids_root_dir}:/inputbids \\\n",
    "        -v {bids_out_dir}/fmriprep/sub-{sub}:/output \\\n",
    "        -v {license_path}:/license.txt \\\n",
    "        nipreps/fmriprep \\\n",
    "        /inputbids /output participant \\\n",
    "        --participant_label {sub} \\\n",
    "        --nthreads {nthreads} --omp-nthreads {nthreads} \\\n",
    "        --mem-mb 32000 --ignore slicetiming --ignore fieldmaps \\\n",
    "        --fs-license-file /license.txt \\\n",
    "        --verbose\n",
    "    \"\"\"\n",
    "    print(f\"Running fMRIPrep for sub-{sub} ...\")\n",
    "    os.system(cmd)"
   ]
  },
  {
   "cell_type": "markdown",
   "id": "5a328771",
   "metadata": {},
   "source": [
    "# Step 4: 检查输出结果和日志文件"
   ]
  },
  {
   "cell_type": "markdown",
   "id": "c61a1cd4",
   "metadata": {},
   "source": [
    "运行完 fMRIPrep 后，建议打开生成的可视化html报告，可以在浏览器中查看（推荐使用 Chrome 或 Firefox）。\n",
    "\n",
    "报告将引导你了解预处理步骤，并突出展示 fMRIPrep 过程中所做的一些关键决策。\n",
    "\n",
    "建议仔细检查每位被试的报告，以评估预处理结果的质量。\n",
    "\n",
    "在每个报告的“Methods”章节，你会找到对具体处理流程的详细描述，方便直接复制到你的论文中，并包含所有相关参考文献。"
   ]
  },
  {
   "cell_type": "markdown",
   "id": "f53012ff",
   "metadata": {},
   "source": [
    "fMRIPrep 完成后，输出将位于子目录中 `derivatives/fmriprep` 。\n",
    "\n",
    "在该目录中，我们可以看到每个被试都会有一个独立的文件夹以及每个被试的 HTML报告，如 `sub-001` 文件夹和对应的 `sub-001.html` ：\n",
    "\n",
    "<div align=\"center\">\n",
    "  <img src=\"https://cdn.kesci.com/upload/sz6chowgo.png?imageView2/0/w/1280/h/1280\" width=\"400\"/>\n",
    "</div>"
   ]
  },
  {
   "cell_type": "markdown",
   "id": "94cf670f",
   "metadata": {},
   "source": [
    "现在，我们打开 `sub-001` 文件夹， 我们可以看到每个被试都包含了所有预处理的功能 (func) 和解剖 (anat) 数据，包括包含预处理中各部分结果图片的 `figure` 文件夹，但这些图片结果在 `.html` 中都有报告，所以不在我们本次的解释范围内，我们重点讲解  `anat` 和  `func` 两个文件夹。\n",
    "\n",
    "首先，我们查看 `anat` 文件夹结构：\n",
    "\n",
    "<div align=\"center\">\n",
    "  <img src=\"https://cdn.kesci.com/upload/sz6csu2nne.png?imageView2/0/w/1280/h/1280\" width=\"500\"/>\n",
    "</div>"
   ]
  },
  {
   "cell_type": "markdown",
   "id": "5dcdf55f",
   "metadata": {},
   "source": [
    "其次，我们查看 `func` 文件夹结构：\n",
    "\n",
    "\n",
    "<div align=\"center\">\n",
    "  <img src=\"https://cdn.kesci.com/upload/sz6ct6ntp.png?imageView2/0/w/1280/h/1280\" width=\"500\"/>\n",
    "</div>\n"
   ]
  }
 ],
 "metadata": {
  "language_info": {
   "name": "python"
  }
 },
 "nbformat": 4,
 "nbformat_minor": 5
}
