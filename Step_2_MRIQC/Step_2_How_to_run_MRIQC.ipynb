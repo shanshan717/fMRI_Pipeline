{
 "cells": [
  {
   "cell_type": "markdown",
   "id": "5f239714",
   "metadata": {},
   "source": [
    "# **Quality Control with the MRI Quality Check (MRIQC) BIDS App**"
   ]
  },
  {
   "cell_type": "markdown",
   "id": "c44686d0",
   "metadata": {},
   "source": [
    "***"
   ]
  },
  {
   "cell_type": "markdown",
   "id": "b24ce54c",
   "metadata": {},
   "source": [
    "本教程将教你如何在 **Windows、macOS 和 Linux 系统** 上使用 [MRIQC](https://mriqc.readthedocs.io/en/stable/) 进行 fMRI 数据质量控制分析。\n",
    "\n",
    "我们将使用Docker运行 MRIQC，从而保证跨平台兼容性和运行稳定性。\n",
    "\n",
    "- **Step 1: 准备BIDS格式的数据集**  \n",
    "- **Step 2: 通过Docker安装MRIQC**  \n",
    "- **Step 3: 运行MRIQC的被试级分析**  \n",
    "- **Step 4: 检查输出结果**  "
   ]
  },
  {
   "cell_type": "markdown",
   "id": "db216866",
   "metadata": {},
   "source": [
    "# Step 1 准备BIDS格式的数据集"
   ]
  },
  {
   "cell_type": "markdown",
   "id": "57879339",
   "metadata": {},
   "source": [
    "### 输入数据：符合BIDS格式的数据集\n",
    "\n",
    "\n",
    "```\n",
    "Bids/\n",
    "├── dataset_description.json\n",
    "├── participants.tsv\n",
    "└── sub-001/\n",
    "    ├── anat/\n",
    "    │   ├── sub-001_T1w.nii.gz\n",
    "    │   └── sub-001_T1w.json\n",
    "    └── func/\n",
    "        ├── sub-001_task-rest_bold.nii.gz\n",
    "        └── sub-001_task-rest_bold.json\n",
    "```\n"
   ]
  },
  {
   "cell_type": "markdown",
   "id": "11d2d55e",
   "metadata": {},
   "source": [
    "# Step 2 通过Docker安装MRIQC\n"
   ]
  },
  {
   "cell_type": "code",
   "execution_count": null,
   "id": "540ee32b",
   "metadata": {
    "vscode": {
     "languageId": "powershell"
    }
   },
   "outputs": [],
   "source": [
    "# 下列命令在linux、macOS、Windows上均可运行 \n",
    "docker run -it nipreps/mriqc:latest --version"
   ]
  },
  {
   "cell_type": "markdown",
   "id": "9447c304",
   "metadata": {},
   "source": [
    "**注意：配置 Docker 镜像加速器**\n",
    "\n",
    "在国内拉取 Docker 镜像时，如果出现如下错误：\n",
    "\n",
    "```\n",
    "docker: Error response from daemon: Get \"https://registry-1.docker.io/v2/\": read tcp 192.168.30.91:51536->44.208.254.194:443: read: connection reset by peer.\n",
    "```\n",
    "\n",
    "这表明 Docker 客户端在尝试访问 Docker Hub 或其他注册中心时出错，具体是无法获取注册中心的 API 响应。\n",
    "\n",
    "> 🔗 参考：[知乎文章 - Docker 镜像加速](https://zhuanlan.zhihu.com/p/24228872523)\n",
    "\n",
    "\n",
    "打开 Docker Desktop → Settings → Docker Engine，添加以下内容：\n",
    "\n",
    "```json\n",
    "{\n",
    "  \"registry-mirrors\": [\n",
    "    \"https://docker-cf.registry.cyou\",\n",
    "    \"https://mirror.aliyuncs.com\",\n",
    "    \"https://mirror.baidubce.com\",\n",
    "    \"https://docker.nju.edu.cn\",\n",
    "    \"https://docker.mirrors.ustc.edu.cn\",\n",
    "    \"https://mirrors.tuna.tsinghua.edu.cn\"\n",
    "  ]\n",
    "}\n",
    "```\n",
    "\n",
    "点击 Apply & Restar。\n",
    "\n",
    "之后在命令行/终端再次输入docker pull 的相关命令。"
   ]
  },
  {
   "cell_type": "markdown",
   "id": "4ab081b8",
   "metadata": {
    "vscode": {
     "languageId": "powershell"
    }
   },
   "source": [
    "# Step 3 运行MRIQC的被试级分析"
   ]
  },
  {
   "cell_type": "markdown",
   "id": "2dfda4af",
   "metadata": {},
   "source": [
    "Windows用户可以管理员身份运行powershell，可参考以下命令：\n"
   ]
  },
  {
   "cell_type": "code",
   "execution_count": null,
   "id": "59cef987",
   "metadata": {
    "vscode": {
     "languageId": "powershell"
    }
   },
   "outputs": [],
   "source": [
    "docker run -it --rm `\n",
    "  # 数据输入路径：请改为自己本地运行的绝对路径，挂载为容器中的/data目录\n",
    "  -v \"G:\\\\Judge\\\\Bids:/data:ro\" `\n",
    "  # 数据输出路径：请改为自己本地运行的绝对路径，挂载为容器中的/out目录\n",
    "  -v \"G:\\\\Judge\\\\derivatives\\\\mriqc:/out\" `\n",
    "  # 本地已有的MRIQC镜像名称\n",
    "  nipreps/mriqc `\n",
    "  # 指定docker容器中数据的输入路径、输出路径，并选择分析级别为participant\n",
    "  /data /out participant `\n",
    "  # 指定单个被试001的数据\n",
    "  --participant_label 001 `\n",
    "  # 禁用自动上传至 mriqc 平台\n",
    "  --no-sub"
   ]
  },
  {
   "cell_type": "markdown",
   "id": "7496265a",
   "metadata": {},
   "source": [
    "如果你使用的是 **Linux** 或 **macOS** 系统，可以直接运行 Bash 脚本来执行 MRIQC 分析：\n",
    "\n",
    "1. 你可以将下方脚本内容保存为 `run_mriqc.sh` 文件，并在终端中赋予其执行权限后运行；\n",
    "2. 或者直接使用我们已经准备好的示例脚本，路径为：`../Step_2_MRIQC/Step_2_run_mriqc.sh`。\n",
    "\n",
    "**操作步骤如下：**\n",
    "\n",
    "```bash\n",
    "# 赋予脚本执行权限（只需执行一次）\n",
    "chmod +x run_mriqc.sh\n",
    "\n",
    "# 运行脚本，后面参数为被试编号（如 001）\n",
    "./run_mriqc.sh 001"
   ]
  },
  {
   "cell_type": "markdown",
   "id": "a86ef049",
   "metadata": {},
   "source": [
    "**示例脚本内容如下：**"
   ]
  },
  {
   "cell_type": "code",
   "execution_count": null,
   "id": "45fc81b7",
   "metadata": {
    "vscode": {
     "languageId": "shellscript"
    }
   },
   "outputs": [],
   "source": [
    "#!/bin/bash\n",
    "# 定义输入数据的路径\n",
    "bids_root_dir=/Volumes/ss/fMRI_Pipeline/BIDS\n",
    "# 获取被试编号\n",
    "subj=$1\n",
    "# 设置并行线程数\n",
    "nthreads=6\n",
    "# 内存（GB）\n",
    "mem=24 \n",
    "\n",
    "# 输出提示信息\n",
    "echo \"\"\n",
    "echo \"Running MRIQC on participant: sub-$subj\"\n",
    "echo \"\"\n",
    "\n",
    "# 创建输出目录（如不存在）\n",
    "if [ ! -d $bids_root_dir/derivatives ]; then\n",
    "  mkdir $bids_root_dir/derivatives\n",
    "fi  \n",
    "\n",
    "if [ ! -d $bids_root_dir/derivatives/mriqc ]; then\n",
    "  mkdir $bids_root_dir/derivatives/mriqc\n",
    "fi\n",
    "\n",
    "if [ ! -d $bids_root_dir/derivatives/mriqc/sub-${subj} ]; then\n",
    "  mkdir $bids_root_dir/derivatives/mriqc/sub-${subj}\n",
    "fi\n",
    "\n",
    "# 使用 Docker 运行 MRIQC\n",
    "docker run -it --rm \\\n",
    "  -v $bids_root_dir:/data:ro \\\n",
    "  -v $bids_root_dir/derivatives/mriqc/sub-${subj}:/out \\\n",
    "  nipreps/mriqc:latest /data /out participant \\\n",
    "  --participant_label $subj \\\n",
    "  --n_proc $nthreads \\\n",
    "  --mem_gb $mem \\\n",
    "  --float32 \\\n",
    "  --ants-nthreads $nthreads \\\n",
    "  -w /out \\\n",
    "  --verbose-reports \\\n",
    "  --no-sub"
   ]
  },
  {
   "cell_type": "markdown",
   "id": "cb1ea558",
   "metadata": {},
   "source": [
    "**注意：** \n",
    "\n",
    "- 请将 `001` 替换为你实际的被试编号。\n",
    "- 如果你使用的是我们的示例脚本，只需将 `run_mriqc.sh` 中的路径替换成您的实际路径"
   ]
  },
  {
   "cell_type": "markdown",
   "id": "25abf489",
   "metadata": {},
   "source": [
    "# Step 4: 检查输出结果\n"
   ]
  },
  {
   "cell_type": "markdown",
   "id": "22572b5e",
   "metadata": {},
   "source": [
    "\n",
    "MRIQC 会为每位被试的每一个扫描生成一个 **HTML 报告**，其中包含多个关于数据质量各方面的可视化图表。\n",
    "\n",
    "在每个报告的底部，你可以点击 **[Extracted Image Quality Metrics (IQMs)](https://mriqc.readthedocs.io/en/latest/measures.html)** 查看根据扫描类型计算出的各种质量指标数值。\n",
    "\n",
    "如果你在 `\"participant\"`（被试）和 `\"group\"`（组）两个级别都运行了 MRIQC，还会生成每种扫描类型的 **组级别报告**。\n",
    "\n",
    "这些报告对于识别是否存在数据质量问题的被试或扫描非常有帮助。\n",
    "\n"
   ]
  },
  {
   "cell_type": "markdown",
   "id": "716cd5f7",
   "metadata": {},
   "source": [
    "\n",
    "**📎 参考资源**\n",
    "\n",
    "- [MRIQC 官方文档](https://mriqc.readthedocs.io/en/latest/)\n",
    "\n"
   ]
  }
 ],
 "metadata": {
  "language_info": {
   "name": "python"
  }
 },
 "nbformat": 4,
 "nbformat_minor": 5
}
