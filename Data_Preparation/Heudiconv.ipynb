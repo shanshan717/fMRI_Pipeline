{
 "cells": [
  {
   "cell_type": "markdown",
   "id": "73469a5a",
   "metadata": {},
   "source": [
    "<center>\n",
    "\n",
    "# **如何运行Heudiconv**\n",
    "\n",
    "</center>"
   ]
  },
  {
   "cell_type": "markdown",
   "id": "6109a9a3",
   "metadata": {},
   "source": [
    "***"
   ]
  },
  {
   "cell_type": "markdown",
   "id": "7b5d8835",
   "metadata": {},
   "source": [
    "**前提条件**\n",
    "\n",
    "1. 已安装 heudiconv docker 和 dcm2niix。\n",
    "2. 准备好待处理的 DICOM 数据集（可参考 quickstart 数据集）。\n",
    "3. 确保 DICOM 文件未压缩（heudiconv 不支持压缩 DICOM）。\n",
    "\n",
    "注：进行docker pull 不成功，并且是因为网络问题的时候，可参考以下链接：\n",
    "\n",
    "- https://gitee.com/wanfeng789/docker-hub#docker-hub\n",
    "- https://www.bilibili.com/video/BV1Zn4y19743/ \n",
    "- https://status.1panel.top/status/docker"
   ]
  }
 ],
 "metadata": {
  "language_info": {
   "name": "python"
  }
 },
 "nbformat": 4,
 "nbformat_minor": 5
}
