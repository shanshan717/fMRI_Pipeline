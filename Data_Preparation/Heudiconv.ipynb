{
 "cells": [
  {
   "cell_type": "markdown",
   "id": "73469a5a",
   "metadata": {},
   "source": [
    "<center>\n",
    "\n",
    "# **如何运行Heudiconv**\n",
    "\n",
    "</center>"
   ]
  },
  {
   "cell_type": "markdown",
   "id": "6109a9a3",
   "metadata": {},
   "source": [
    "***"
   ]
  },
  {
   "cell_type": "markdown",
   "id": "7b5d8835",
   "metadata": {},
   "source": [
    "步骤：\n",
    "\n",
    "1. 搭建运行环境\n",
    "2. 使用 HeuDiConv 获取 dicominfo.tsv\n",
    "3. 根据 dicominfo 生成 heuristic.py\n",
    "4. 使用 heuristic.py 转换并验证 BIDS 是否合规\n",
    "5. 逐步处理 ses-005、ses-025 等多个 session，重复上述步骤直到数据集完整\n",
    "\n",
    "注：进行docker pull 不成功，并且是因为网络问题的时候，可参考以下链接：\n",
    "\n",
    "- https://gitee.com/wanfeng789/docker-hub#docker-hub\n",
    "- https://www.bilibili.com/video/BV1Zn4y19743/ \n",
    "- https://status.1panel.top/status/docker"
   ]
  },
  {
   "cell_type": "markdown",
   "id": "d9acb2b3",
   "metadata": {},
   "source": [
    "## 设置运行环境"
   ]
  },
  {
   "cell_type": "code",
   "execution_count": null,
   "id": "0cd97b4a",
   "metadata": {
    "vscode": {
     "languageId": "shellscript"
    }
   },
   "outputs": [],
   "source": [
    "# 通过 Docker 拉取 HeuDiConv 镜像\n",
    "docker pull nipy/heudiconv:latest"
   ]
  },
  {
   "cell_type": "markdown",
   "id": "b4643f13",
   "metadata": {},
   "source": [
    "## 运行HeuDiConv"
   ]
  },
  {
   "cell_type": "markdown",
   "id": "c7eb946e",
   "metadata": {},
   "source": [
    "首先，查看数据目录结构，如：\n",
    "\n",
    "```\n",
    "/home/ss/Downloads/HeuDiConv_walkthrough/Dicom/sub-01/ses-001/SCANS/\n",
    "   ├── 3/DICOM/*.dcm\n",
    "   ├── 4/DICOM/*.dcm\n",
    "   ├── 5/DICOM/*.dcm\n",
    "   ├── 6/DICOM/*.dcm\n",
    "   ├── 7/DICOM/*.dcm\n",
    "   ├── 8/DICOM/*.dcm\n",
    "   └── 9/DICOM/*.dcm\n",
    "\n",
    "```"
   ]
  },
  {
   "cell_type": "code",
   "execution_count": null,
   "id": "9f1ffc66",
   "metadata": {
    "vscode": {
     "languageId": "shellscript"
    }
   },
   "outputs": [],
   "source": [
    "# 在终端执行以下命令，记得替换路径\n",
    "\n",
    "docker run --rm -it \\\n",
    "  -v /你的路径/HeuDiConv_walkthrough:/base \\\n",
    "  nipy/heudiconv:latest \\\n",
    "  -d /base/Dicom/sub-{subject}/ses-{session}/SCANS/*/DICOM/*.dcm \\\n",
    "  -o /base/Nifti/ \\\n",
    "  -f convertall \\\n",
    "  -s 01 \\\n",
    "  -ss 001 \\\n",
    "  -c none \\\n",
    "  --overwrite"
   ]
  },
  {
   "cell_type": "markdown",
   "id": "78537549",
   "metadata": {},
   "source": [
    "运行后，会在 Nifti/ 下生成一个隐藏目录 .heudiconv，包含 dicominfo_ses-001.tsv 文件。"
   ]
  },
  {
   "cell_type": "markdown",
   "id": "7f62fe5e",
   "metadata": {},
   "source": [
    "## 提取 dicominfo.tsv 并编写 heuristic.py"
   ]
  },
  {
   "cell_type": "markdown",
   "id": "7af78f11",
   "metadata": {},
   "source": [
    "将生成的 dicominfo_ses-001.tsv 文件复制出来（例如放在项目根目录）："
   ]
  },
  {
   "cell_type": "code",
   "execution_count": null,
   "id": "1eeeff6f",
   "metadata": {
    "vscode": {
     "languageId": "shellscript"
    }
   },
   "outputs": [],
   "source": [
    "# 记得替换路径\n",
    "cp /你的路径/HeuDiConv_walkthrough/Nifti/.heudiconv/01/info/dicominfo_ses-001.tsv /你的路径/HeuDiConv_walkthrough/\n"
   ]
  },
  {
   "cell_type": "markdown",
   "id": "235332f3",
   "metadata": {},
   "source": [
    "打开这个文件，查看其中多个参数字段（如 SeriesDescription、ProtocolName 等），用于生成你的 heuristic.py 文件。\n",
    "\n",
    "若使用本教程的示例教程，可参考本教程的 heuristic.py \n",
    "\n",
    "注：本教程的heuristic.py放在 `HeuDiConv_walkthrough` 文件夹的根目录下"
   ]
  },
  {
   "cell_type": "code",
   "execution_count": null,
   "id": "5f3a6c2f",
   "metadata": {
    "vscode": {
     "languageId": "shellscript"
    }
   },
   "outputs": [],
   "source": [
    "def create_key(template, outtype=('nii.gz',), annotation_classes=None):\n",
    "    return template, outtype, annotation_classes\n",
    "\n",
    "def infotodict(seqinfo):\n",
    "    \"\"\"Heuristic evaluator for determining which runs belong where\"\"\"\n",
    "    info = {}\n",
    "\n",
    "    \n",
    "    t1w = create_key('sub-{subject}/{session}/anat/sub-{subject}_{session}_T1w')\n",
    "\n",
    "    info[t1w] = []\n",
    "\n",
    "    for s in seqinfo:\n",
    "        desc = s.series_description.lower()\n",
    "        if \"t1\" in desc or \"mprage\" in desc:\n",
    "            info[t1w].append(s.series_id)\n",
    "\n",
    "    return info\n"
   ]
  },
  {
   "cell_type": "markdown",
   "id": "47e7847a",
   "metadata": {},
   "source": [
    "## 使用 heuristic.py 再次运行 HeuDiConv 并验证"
   ]
  },
  {
   "cell_type": "markdown",
   "id": "75684482",
   "metadata": {},
   "source": [
    "使用包含自定义规则的 `heuristic.py` 再次运行转换命令，基本结构与上次相同，但加入 `-f heuristic.py` 参数。"
   ]
  },
  {
   "cell_type": "code",
   "execution_count": null,
   "id": "2c7ed89b",
   "metadata": {
    "vscode": {
     "languageId": "shellscript"
    }
   },
   "outputs": [],
   "source": [
    "sudo docker run --rm -it \\\n",
    "-v /home/ss/Downloads/HeuDiConv_walkthrough:/base \\\n",
    "nipy/heudiconv:latest \\\n",
    "-d /base/Dicom/sub-{subject}/ses-{session}/SCANS/*/DICOM/*.dcm \\\n",
    "-o /base/Nifti/ \\\n",
    "-f /base/heuristic.py \\\n",
    "-s 01 \\\n",
    "-ss 001 \\\n",
    "-c dcm2niix \\\n",
    "--overwrite\n"
   ]
  },
  {
   "cell_type": "markdown",
   "id": "d6344fa1",
   "metadata": {},
   "source": [
    "完成后，可使用 BIDS Validator 检查生成的数据集是否合法、结构是否正确。\n",
    "\n",
    "注：我们仅示范了一个session的数据转换过程，对于其他的session 可以同样执行上述代码，修改 docker 执行命令中的对应参数即可。"
   ]
  }
 ],
 "metadata": {
  "language_info": {
   "name": "python"
  }
 },
 "nbformat": 4,
 "nbformat_minor": 5
}
