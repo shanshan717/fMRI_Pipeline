{
 "cells": [
  {
   "cell_type": "markdown",
   "metadata": {},
   "source": [
    "<center>\n",
    "\n",
    "# **fMRI 数据分析环境搭建**\n",
    "\n",
    "</center>"
   ]
  },
  {
   "cell_type": "markdown",
   "metadata": {},
   "source": [
    "***"
   ]
  },
  {
   "cell_type": "markdown",
   "metadata": {},
   "source": [
    "在开始进行 fMRI 数据分析之前，首先需要搭建一个合适且稳定的数据分析环境。\n",
    "\n",
    "本教程将介绍三种常用的工具：\n",
    "\n",
    "- **Conda**\n",
    "- **Docker**\n",
    "- **Git**"
   ]
  },
  {
   "cell_type": "markdown",
   "metadata": {},
   "source": [
    "# Conda\n",
    "\n",
    "### 1.1 什么是 Conda？\n",
    "Conda 是一个开源的包管理器和环境管理器，用于安装、更新和管理 Python 库以及创建和管理虚拟环境。它广泛用于数据科学和机器学习领域，尤其适合需要管理多个项目和环境的场景。\n"
   ]
  },
  {
   "cell_type": "markdown",
   "metadata": {},
   "source": [
    "### 1.2 安装 Conda\n",
    "为了避免不同项目之间的依赖冲突，建议为每个项目创建独立的 Conda 环境。\n",
    "\n",
    "如，基于NARPS公开数据进行分析，可以建立一个名为 **‘fMRI_Narps'** 的环境，并使用 Python 3.12 版本（根据具体的项目需求可以自行选择特定的Python版本）。\n",
    "\n",
    "**注：** Miniconda是Conda的轻量版，本教程将基于Miniconda进行环境创建。"
   ]
  },
  {
   "cell_type": "markdown",
   "metadata": {},
   "source": [
    "#### 1.2.1 Linux 系统\n",
    "\n",
    "\n",
    "打开终端，运行以下命令下载并安装Miniconda：\n",
    "\n",
    "```bash\n",
    "# 下载最新版本的Miniconda安装脚本到用户的主目录\n",
    "$ cd ~\n",
    "$ wget https://repo.anaconda.com/miniconda/Miniconda3-latest-Linux-x86_64.sh\n",
    "\n",
    "# 运行安装脚本进行Miniconda安装\n",
    "$ bash Miniconda3-latest-Linux-x86_64.sh\n",
    "\n",
    "# 如果不希望在登录时自动激活base环境，可以使用此命令\n",
    "$ conda config --set auto_activate_base false\n",
    "\n",
    "# 重新加载.bashrc文件，使配置变更生效\n",
    "$ source .bashrc\n",
    "\n",
    "# 如果需要，可以删除下载的安装文件以节省磁盘空间\n",
    "$ rm -r Miniconda3-latest-Linux-x86_64.sh\n",
    "```"
   ]
  },
  {
   "cell_type": "markdown",
   "metadata": {},
   "source": [
    "#### 1.2.2 Windows 系统\n",
    "\n",
    "Windows用户可以前往 [Miniconda官网](https://docs.conda.io/en/latest/miniconda.html) 下载适合的安装包，或者使用以下命令安装：\n",
    "\n",
    "```bash\n",
    "# 使用 curl 下载 Miniconda 安装程序并将其保存为 miniconda.exe\n",
    "curl https://repo.anaconda.com/miniconda/Miniconda3-latest-Windows-x86_64.exe -o miniconda.exe\n",
    "\n",
    "# 使用 start 命令运行安装程序，并使用 /S 参数进行静默安装（不显示用户界面），/wait 让命令行等待安装完成后再继续执行\n",
    "start /wait \"\" miniconda.exe /S\n",
    "\n",
    "# 删除安装文件 miniconda.exe 以节省磁盘空间\n",
    "del miniconda.exe\n",
    "```\n",
    "\n",
    "提示：如果使用 Windows 运行这些命令，确保系统已安装 curl（Windows 10 及以上版本默认已包含）。"
   ]
  },
  {
   "cell_type": "markdown",
   "metadata": {},
   "source": [
    "#### 1.2.3 MacOS\n",
    "\n",
    "打开终端并执行以下命令：\n",
    "\n",
    "``` bash\n",
    "# 下载最新版本的Miniconda安装脚本到“下载”目录\n",
    "$ cd ~/Downloads\n",
    "$ curl -O https://repo.anaconda.com/miniconda/Miniconda3-latest-MacOSX-x86_64.sh\n",
    "\n",
    "# 运行安装脚本进行Miniconda安装（默认会安装到您的主目录）\n",
    "$ bash Miniconda3-latest-MacOSX-x86_64.sh\n",
    "\n",
    "# 如果你想自动同意许可条款，而不需要用户手动输入“yes”，可以使用以下命令，安装过程会自动开始并继续，直到完成安装。\n",
    "# $ bash Miniconda3-latest-MacOSX-x86_64.sh -b\n",
    "\n",
    "# 如果不希望在登录时自动激活base环境，可以使用此命令\n",
    "$ conda config --set auto_activate_base false\n",
    "\n",
    "# 重新加载.bash_profile文件，使配置变更生效\n",
    "$ cd ~\n",
    "$ source .bash_profile\n",
    "\n",
    "# 如果需要，可以删除安装文件以节省磁盘空间\n",
    "$ rm -r ~/Downloads/Miniconda3-latest-MacOSX-x86_64.sh\n",
    "```\n",
    "\n",
    "提示：\n",
    "- 如果您有多个fMRI研究项目，建议为每个项目设置一个独立的Conda环境。\n",
    "- 始终使用特定的Conda环境来确保每个项目中所用的软件版本一致。"
   ]
  },
  {
   "cell_type": "markdown",
   "metadata": {},
   "source": [
    "### 1.3 创建 Conda 环境\n",
    "\n",
    "当 Miniconda 安装成功后，可以创建一个专门用于 fMRI 数据分析的 Conda 环境。本教程将基于Neuroimaging Analysis Replication and Prediction Study（NARPS）项目的fMRI公开数据指导您如何创建并配置环境，此处将环境命名为“fMRI_Narps”。\n",
    "\n",
    "```bash\n",
    "\n",
    "# 检查conda设置\n",
    "$ cd ~  # 切换到当前用户的主目录（windows 系统下为 'cd %USERPROFILE%'）\n",
    "$ which conda  # 查看conda命令的安装路径，确认conda的安装位置（windows 系统下为 'where conda'）\n",
    "$ conda env list  # 列出所有conda环境，您应该看到一个名为base的默认环境\n",
    "$ conda --version  # 查看当前安装的conda版本，最新版本是24.9.2（截至2025年2月15日）\n",
    "$ conda --help  # 显示conda命令的帮助信息，列出所有可用命令\n",
    "\n",
    "# 如果需要更新conda\n",
    "$ conda update -n base -c defaults conda  # 更新base环境中的conda到最新版本\n",
    "\n",
    "# 创建一个名为pygers的新环境，使用Python 3.9\n",
    "$ conda create -n fMRI_Narps python=3.9  # 创建一个名为fMRI_Narps的环境，并指定使用Python 3.9版本\n",
    "$ conda env list  # 再次列出所有环境，确认fMRI_Narps环境已经成功创建\n",
    "\n",
    "# 注意：如果你刚安装了 Conda（或如果你从未运行过 conda init），可能会遇到这个错误“CondaError: Run 'conda init' before 'conda activate'”\n",
    "# 因此，初次安装conda的时候，应运行‘conda init’来初始化 Conda 环境\n",
    "\n",
    "# 激活pygers环境\n",
    "$ conda activate pygers  # 激活fMRI_Narps环境\n",
    "\n",
    "# 检查当前环境中的Python版本\n",
    "$ python --version  # 查看当前激活的环境中Python的版本\n",
    "\n",
    "# 如果需要更新Python版本\n",
    "$ conda update python  # 更新当前环境中的Python版本\n",
    "\n",
    "# 如果想要在主版本之间升级，例如从Python 3.9升级到3.12\n",
    "$ conda install python=3.12  # 安装指定版本的Python（例如3.12）\n",
    "$ python --version  # 查看更新后的Python版本\n",
    "\n",
    "```"
   ]
  },
  {
   "cell_type": "markdown",
   "metadata": {},
   "source": [
    "### 1.4 在 Conda 环境中安装所需的软件包\n",
    "\n",
    "针对于fMRI数据分析，本教程建议安装以下软件包到已创建好的fMRI_Narps的环境中。如果您有其他特定需求，也可以根据项目要求安装其他所需的软件包到当前环境中。\n",
    "\n",
    "```bash\n",
    "# 确保激活fMRI_Narps环境\n",
    "$ conda activate fMRI_Narps # 激活名为fMRI_Narps的conda环境\n",
    "\n",
    "# 安装前四个包\n",
    "$ conda install git numpy pandas jupyter  # 安装git、numpy、pandas和jupyter包\n",
    "\n",
    "# 检查安装情况；以下版本是截至2025年2月15日的最新版本\n",
    "$ conda list  # 列出当前环境中安装的所有包\n",
    "$ git --version  # 查看git版本（例如2.45.2）\n",
    "$ jupyter --version  # 查看jupyter版本（核心版本为5.7.2）\n",
    "$ python -c \"import numpy; print(numpy.version.version)\"  # 查看numpy版本（例如2.2.2）\n",
    "$ python -c \"import pandas; print(pandas.__version__)\"  # 查看pandas版本（例如2.2.3）\n",
    "\n",
    "# 安装nodejs\n",
    "$ conda install -c conda-forge nodejs  # 安装nodejs\n",
    "$ node -v  # 检查nodejs的版本（例如20.12.2）\n",
    "\n",
    "# 安装bids-validator\n",
    "$ npm install -g bids-validator  # 使用npm全局安装bids-validator\n",
    "$ which bids-validator  # 查看bids-validator的安装位置\n",
    "$ bids-validator -v  # 查看bids-validator的版本（例如1.15.0）\n",
    "\n",
    "# 安装datalad\n",
    "$ conda install -c conda-forge datalad  # 使用conda从conda-forge渠道安装datalad\n",
    "$ datalad --version  # 查看datalad的版本（例如1.1.4）\n",
    "\n",
    "# 安装pydeface和fsleyes（仅限本地环境）\n",
    "$ pip install pydeface  # 使用pip安装pydeface包\n",
    "$ pydeface --help  # 查看pydeface的帮助信息\n",
    "# 使用conda从conda-forge安装fsleyes\n",
    "# 注意，fsleys和windows系统不兼容，能成功下载，但不能顺利运行，除非是在Windows Subsystem for Linux（WSL）中运行\n",
    "$ conda install -c conda-forge fsleyes \n",
    "# 查看fsleyes的版本\n",
    "$ fsleyes --version  \n",
    "\n",
    "# 查看fMRI_Narps环境中已安装的所有包\n",
    "$ conda list  # 列出fMRI_Narps环境中已安装的所有包\n",
    "```"
   ]
  },
  {
   "cell_type": "markdown",
   "metadata": {},
   "source": [
    "## 2. Docker\n",
    "\n",
    "Docker 是一个用于虚拟化和容器化复杂数据处理环境的工具。它可以创建和管理隔离的软件环境，类似于 Conda 和 renv。与 Conda 和 renv 不同，Docker 提供了更深层次的隔离，支持安装几乎任何软件（需要相应的安装文件以便未来下载）。Docker 容器的优势是它们能模拟一个完整的计算机环境，使其类似于虚拟机，且在性能和易用性上优于传统的虚拟机。\n",
    "\n",
    "本节将介绍如何在 Linux、Windows 和 macOS 系统上安装 Docker。"
   ]
  },
  {
   "cell_type": "markdown",
   "metadata": {
    "vscode": {
     "languageId": "plaintext"
    }
   },
   "source": [
    "### 2.1 如何安装Docker\n",
    "\n",
    "#### 2.1.1 Linux系统\n",
    "\n",
    "在 Linux 系统下，有两种方式可以安装 Docker：通过 APT 或手动安装。建议使用 APT 来安装 Docker，确保软件包通过 HTTPS 安全传输。\n",
    "\n",
    "```bash\n",
    "# 更新 apt 包索引\n",
    "sudo apt update\n",
    "\n",
    "# 安装必要的工具和证书\n",
    "sudo apt install apt-transport-https ca-certificates curl gnupg lsb-release\n",
    "\n",
    "# 添加 Docker 的 GPG 密钥\n",
    "curl -fsSL https://mirrors.aliyun.com/docker-ce/linux/ubuntu/gpg | sudo gpg --dearmor -o /usr/share/keyrings/docker-archive-keyring.gpg\n",
    "\n",
    "# 添加阿里云 Docker 镜像源\n",
    "echo \"deb [arch=amd64 signed-by=/usr/share/keyrings/docker-archive-keyring.gpg] https://mirrors.aliyun.com/docker-ce/linux/ubuntu $(lsb_release -cs) stable\" | sudo tee /etc/apt/sources.list.d/docker.list > /dev/null\n",
    "\n",
    "# 更新 apt 包缓存并安装 Docker\n",
    "sudo apt update\n",
    "sudo apt install docker-ce docker-ce-cli containerd.io\n",
    "```\n"
   ]
  },
  {
   "cell_type": "markdown",
   "metadata": {},
   "source": [
    "然后，使用以下命令启动 Docker 服务：\n",
    "\n",
    "```bash\n",
    "# 启动 Docker 并设置为开机启动\n",
    "sudo systemctl enable docker\n",
    "sudo systemctl start docker\n",
    "```"
   ]
  },
  {
   "cell_type": "markdown",
   "metadata": {},
   "source": [
    "#### 2.1.1.1 加入Docker用户组\n",
    "默认情况下，Docker命令会使用Unix Socket与Docker引擎通讯，只有root用户和docker组成员才可以访问Docker引擎的Unix Socket。出于安全考虑，一般Linux系统上不会直接使用root用户。因此，更好地做法是将需要使用docker的用户加入docker用户组。可在命令行执行以下命令：\n",
    "\n",
    "```bash\n",
    "# 创建 Docker 组\n",
    "sudo groupadd docker\n",
    "\n",
    "# 将当前用户添加到 Docker 组\n",
    "sudo usermod -aG docker $USER\n",
    "```\n",
    "\n",
    "执行上述命令后，请退出当前终端并重新登陆。其次，使用以下命令验证Docker是否安装成功：\n",
    "\n",
    "```bash\n",
    "# 测试 Docker 安装是否成功\n",
    "docker run --rm hello-world\n",
    "```\n",
    "\n",
    "如果输出以下类似内容，则说明Docker安装成功：\n",
    "```bash\n",
    "Hello from Docker!\n",
    "This message shows that your installation appears to be working correctly.\n",
    "```\n",
    "\n",
    "注意，如果在使用过程中发现拉取Docker镜像十分缓慢，可以配置docker国内镜像加速。\n"
   ]
  },
  {
   "cell_type": "markdown",
   "metadata": {},
   "source": [
    "#### 2.1.2 Windows 系统\n",
    "\n",
    "```bash\n",
    "# 使用 winget 安装 Docker\n",
    "winget install Docker.DockerDesktop\n",
    "```\n",
    "\n",
    "安装后，启动 Docker，并在 PowerShell 中运行 Docker 命令。"
   ]
  },
  {
   "cell_type": "markdown",
   "metadata": {},
   "source": [
    "#### 2.1.3 MacOS 系统\n",
    "\n",
    "使用 Homebrew 安装 Docker：\n",
    "\n",
    "```bash\n",
    "brew install --cask docker\n",
    "```\n",
    "\n",
    "或者手动从 [Docker 官网](https://www.docker.com/products/docker-desktop/) 下载并安装。"
   ]
  },
  {
   "cell_type": "markdown",
   "metadata": {},
   "source": [
    "## 3. Git的基本操作\n"
   ]
  },
  {
   "cell_type": "markdown",
   "metadata": {
    "vscode": {
     "languageId": "plaintext"
    }
   },
   "source": [
    "```bash\n",
    "# 如果你需要参与一个已有的项目，首先需要将远程仓库克隆到本地：\n",
    "git clone https://github.com/username/repo.git\n",
    "cd repo\n",
    "\n",
    "# 为了避免直接在 main 或 master 分支上进行开发，通常会创建一个新的分支：\n",
    "git checkout -b new-feature\n",
    "\n",
    "# 将修改过的文件添加到暂存区，以便进行下一步的提交操作：\n",
    "git add filename\n",
    "# 或者添加所有修改的文件\n",
    "git add .\n",
    "\n",
    "# 将暂存区的更改提交到本地仓库，并添加提交信息：\n",
    "git commit -m \"Add new feature\"\n",
    "\n",
    "# 在推送本地更改之前，最好从远程仓库拉取最新的更改，以避免冲突：\n",
    "git pull origin main\n",
    "# 或者如果在新的分支上工作\n",
    "git pull origin new-feature\n",
    "\n",
    "# 将本地的提交推送到远程仓库：\n",
    "git push origin new-feature\n",
    "\n",
    "# 创建 Pull Request,在 GitHub 或其他托管平台上创建 Pull Request，邀请团队成员进行代码审查。PR 合并后，你的更改就会合并到主分支。\n",
    "\n",
    "# 在 PR 审核通过并合并后，可以将远程仓库的主分支合并到本地分支：\n",
    "git checkout main\n",
    "git pull origin main\n",
    "git merge new-feature\n",
    "\n",
    "# 如果不再需要新功能分支，可以将其删除：\n",
    "git branch -d new-feature\n",
    "\n",
    "# 或者从远程仓库删除分支：\n",
    "git push origin --delete new-feature\n",
    "\n",
    "# 查看已配置的远程仓库\n",
    "git remote          # 显示所有远程仓库简称\n",
    "git remote -v       # 显示详细 URL 信息\n",
    "\n",
    "# 添加远程仓库\n",
    "git remote add <简称> <URL>\n",
    "\n",
    "# 从远程仓库中获取数据\n",
    "git fetch <远程简称>   # 仅下载数据，不自动合并\n",
    "\n",
    "# 拉取并自动合并\n",
    "git pull <远程简称> <分支名>  # 相当于 fetch + merge\n",
    "\n",
    "# 推送本地提交到远程仓库\n",
    "git push <远程简称> <分支名>\n",
    "\n",
    "# 查看远程仓库详细信息\n",
    "git remote show <远程简称>\n",
    "\n",
    "# 重命名远程仓库\n",
    "git remote rename <旧名称> <新名称>\n",
    "\n",
    "# 删除远程仓库\n",
    "git remote rm <远程简称>\n",
    "```\n"
   ]
  }
 ],
 "metadata": {
  "kernelspec": {
   "display_name": "ss",
   "language": "python",
   "name": "python3"
  },
  "language_info": {
   "name": "python",
   "version": "3.12.9"
  }
 },
 "nbformat": 4,
 "nbformat_minor": 2
}
